{
 "cells": [
  {
   "cell_type": "code",
   "execution_count": 23,
   "id": "2284504f",
   "metadata": {},
   "outputs": [],
   "source": [
    "import pandas as pd"
   ]
  },
  {
   "cell_type": "code",
   "execution_count": 24,
   "id": "0d2ce34a",
   "metadata": {},
   "outputs": [
    {
     "data": {
      "text/plain": [
       "'1.4.2'"
      ]
     },
     "execution_count": 24,
     "metadata": {},
     "output_type": "execute_result"
    }
   ],
   "source": [
    "pd.__version__"
   ]
  },
  {
   "cell_type": "code",
   "execution_count": 31,
   "id": "33eccce3",
   "metadata": {},
   "outputs": [
    {
     "name": "stdout",
     "output_type": "stream",
     "text": [
      "--2025-01-06 15:55:04--  https://s3.amazonaws.com/nyc-tlc/trip+data/yellow_tripdata_2021-01.csv\n",
      "Resolving s3.amazonaws.com (s3.amazonaws.com)... 54.231.235.160, 52.216.37.8, 16.15.176.100, ...\n",
      "Connecting to s3.amazonaws.com (s3.amazonaws.com)|54.231.235.160|:443... connected.\n",
      "HTTP request sent, awaiting response... 403 Forbidden\n",
      "2025-01-06 15:55:05 ERROR 403: Forbidden.\n",
      "\n"
     ]
    }
   ],
   "source": [
    "!wget https://s3.amazonaws.com/nyc-tlc/trip+data/yellow_tripdata_2021-01.csv"
   ]
  },
  {
   "cell_type": "code",
   "execution_count": 26,
   "id": "55787270",
   "metadata": {},
   "outputs": [
    {
     "name": "stdout",
     "output_type": "stream",
     "text": [
      "Dockerfile\tnotes.md\t       yellow_tripdata_2021-01.parquet\r\n",
      "Untitled.ipynb\tny_taxi_postgres_data  yellow_tripdata_2021-01.parquet.1\r\n",
      "command\t\tpipeline.py\r\n"
     ]
    }
   ],
   "source": [
    "!ls"
   ]
  },
  {
   "cell_type": "code",
   "execution_count": 27,
   "id": "79933b2f",
   "metadata": {},
   "outputs": [
    {
     "name": "stdout",
     "output_type": "stream",
     "text": [
      "Requirement already satisfied: fastparquet in /home/codespace/anaconda3/lib/python3.9/site-packages (2024.11.0)\n",
      "Requirement already satisfied: cramjam>=2.3 in /home/codespace/anaconda3/lib/python3.9/site-packages (from fastparquet) (2.9.1)\n",
      "Requirement already satisfied: pandas>=1.5.0 in /home/codespace/anaconda3/lib/python3.9/site-packages (from fastparquet) (2.2.3)\n",
      "Requirement already satisfied: fsspec in /home/codespace/anaconda3/lib/python3.9/site-packages (from fastparquet) (2022.2.0)\n",
      "Requirement already satisfied: numpy in /home/codespace/anaconda3/lib/python3.9/site-packages (from fastparquet) (2.0.2)\n",
      "Requirement already satisfied: packaging in /home/codespace/anaconda3/lib/python3.9/site-packages (from fastparquet) (21.3)\n",
      "Requirement already satisfied: python-dateutil>=2.8.2 in /home/codespace/anaconda3/lib/python3.9/site-packages (from pandas>=1.5.0->fastparquet) (2.8.2)\n",
      "Requirement already satisfied: pytz>=2020.1 in /home/codespace/anaconda3/lib/python3.9/site-packages (from pandas>=1.5.0->fastparquet) (2021.3)\n",
      "Requirement already satisfied: tzdata>=2022.7 in /home/codespace/anaconda3/lib/python3.9/site-packages (from pandas>=1.5.0->fastparquet) (2024.2)\n",
      "Requirement already satisfied: six>=1.5 in /home/codespace/anaconda3/lib/python3.9/site-packages (from python-dateutil>=2.8.2->pandas>=1.5.0->fastparquet) (1.16.0)\n",
      "Requirement already satisfied: pyparsing!=3.0.5,>=2.0.2 in /home/codespace/anaconda3/lib/python3.9/site-packages (from packaging->fastparquet) (3.0.4)\n",
      "Requirement already satisfied: pyarrow in /home/codespace/anaconda3/lib/python3.9/site-packages (18.1.0)\n"
     ]
    }
   ],
   "source": [
    "!pip install fastparquet\n",
    "!pip install pyarrow"
   ]
  },
  {
   "cell_type": "code",
   "execution_count": 28,
   "id": "dc518a9a",
   "metadata": {},
   "outputs": [],
   "source": [
    "data = pd.read_parquet(\"yellow_tripdata_2021-01.parquet\", engine=\"fastparquet\")"
   ]
  },
  {
   "cell_type": "code",
   "execution_count": 29,
   "id": "721071cc",
   "metadata": {},
   "outputs": [
    {
     "ename": "ImportError",
     "evalue": "cannot import name 'SequenceNotStr' from 'pandas._typing' (/home/codespace/anaconda3/lib/python3.9/site-packages/pandas/_typing.py)",
     "output_type": "error",
     "traceback": [
      "\u001b[0;31m---------------------------------------------------------------------------\u001b[0m",
      "\u001b[0;31mImportError\u001b[0m                               Traceback (most recent call last)",
      "Input \u001b[0;32mIn [29]\u001b[0m, in \u001b[0;36m<cell line: 2>\u001b[0;34m()\u001b[0m\n\u001b[1;32m      1\u001b[0m csv_file \u001b[38;5;241m=\u001b[39m \u001b[38;5;124m\"\u001b[39m\u001b[38;5;124myellow_tripdata_2021-01.csv\u001b[39m\u001b[38;5;124m\"\u001b[39m\n\u001b[0;32m----> 2\u001b[0m \u001b[43mdata\u001b[49m\u001b[38;5;241;43m.\u001b[39;49m\u001b[43mto_csv\u001b[49m\u001b[43m(\u001b[49m\u001b[43mcsv_file\u001b[49m\u001b[43m,\u001b[49m\u001b[43m \u001b[49m\u001b[43mindex\u001b[49m\u001b[38;5;241;43m=\u001b[39;49m\u001b[38;5;28;43;01mFalse\u001b[39;49;00m\u001b[43m)\u001b[49m\n",
      "File \u001b[0;32m~/anaconda3/lib/python3.9/site-packages/pandas/core/generic.py:3551\u001b[0m, in \u001b[0;36mto_csv\u001b[0;34m(self, path_or_buf, sep, na_rep, float_format, columns, header, index, index_label, mode, encoding, compression, quoting, quotechar, line_terminator, chunksize, date_format, doublequote, escapechar, decimal, errors, storage_options)\u001b[0m\n\u001b[1;32m   3387\u001b[0m \u001b[38;5;129m@final\u001b[39m\n\u001b[1;32m   3388\u001b[0m \u001b[38;5;129m@deprecate_nonkeyword_arguments\u001b[39m(\n\u001b[1;32m   3389\u001b[0m     version\u001b[38;5;241m=\u001b[39m\u001b[38;5;124m\"\u001b[39m\u001b[38;5;124m3.0\u001b[39m\u001b[38;5;124m\"\u001b[39m, allowed_args\u001b[38;5;241m=\u001b[39m[\u001b[38;5;124m\"\u001b[39m\u001b[38;5;124mself\u001b[39m\u001b[38;5;124m\"\u001b[39m, \u001b[38;5;124m\"\u001b[39m\u001b[38;5;124mbuf\u001b[39m\u001b[38;5;124m\"\u001b[39m], name\u001b[38;5;241m=\u001b[39m\u001b[38;5;124m\"\u001b[39m\u001b[38;5;124mto_latex\u001b[39m\u001b[38;5;124m\"\u001b[39m\n\u001b[0;32m   (...)\u001b[0m\n\u001b[1;32m   3413\u001b[0m     position: \u001b[38;5;28mstr\u001b[39m \u001b[38;5;241m|\u001b[39m \u001b[38;5;28;01mNone\u001b[39;00m \u001b[38;5;241m=\u001b[39m \u001b[38;5;28;01mNone\u001b[39;00m,\n\u001b[1;32m   3414\u001b[0m ) \u001b[38;5;241m-\u001b[39m\u001b[38;5;241m>\u001b[39m \u001b[38;5;28mstr\u001b[39m \u001b[38;5;241m|\u001b[39m \u001b[38;5;28;01mNone\u001b[39;00m:\n\u001b[1;32m   3415\u001b[0m     \u001b[38;5;124mr\u001b[39m\u001b[38;5;124;03m\"\"\"\u001b[39;00m\n\u001b[1;32m   3416\u001b[0m \u001b[38;5;124;03m    Render object to a LaTeX tabular, longtable, or nested table.\u001b[39;00m\n\u001b[1;32m   3417\u001b[0m \n\u001b[1;32m   3418\u001b[0m \u001b[38;5;124;03m    Requires ``\\usepackage{{booktabs}}``.  The output can be copy/pasted\u001b[39;00m\n\u001b[1;32m   3419\u001b[0m \u001b[38;5;124;03m    into a main LaTeX document or read from an external file\u001b[39;00m\n\u001b[1;32m   3420\u001b[0m \u001b[38;5;124;03m    with ``\\input{{table.tex}}``.\u001b[39;00m\n\u001b[1;32m   3421\u001b[0m \n\u001b[1;32m   3422\u001b[0m \u001b[38;5;124;03m    .. versionchanged:: 2.0.0\u001b[39;00m\n\u001b[1;32m   3423\u001b[0m \u001b[38;5;124;03m       Refactored to use the Styler implementation via jinja2 templating.\u001b[39;00m\n\u001b[1;32m   3424\u001b[0m \n\u001b[1;32m   3425\u001b[0m \u001b[38;5;124;03m    Parameters\u001b[39;00m\n\u001b[1;32m   3426\u001b[0m \u001b[38;5;124;03m    ----------\u001b[39;00m\n\u001b[1;32m   3427\u001b[0m \u001b[38;5;124;03m    buf : str, Path or StringIO-like, optional, default None\u001b[39;00m\n\u001b[1;32m   3428\u001b[0m \u001b[38;5;124;03m        Buffer to write to. If None, the output is returned as a string.\u001b[39;00m\n\u001b[1;32m   3429\u001b[0m \u001b[38;5;124;03m    columns : list of label, optional\u001b[39;00m\n\u001b[1;32m   3430\u001b[0m \u001b[38;5;124;03m        The subset of columns to write. Writes all columns by default.\u001b[39;00m\n\u001b[1;32m   3431\u001b[0m \u001b[38;5;124;03m    header : bool or list of str, default True\u001b[39;00m\n\u001b[1;32m   3432\u001b[0m \u001b[38;5;124;03m        Write out the column names. If a list of strings is given,\u001b[39;00m\n\u001b[1;32m   3433\u001b[0m \u001b[38;5;124;03m        it is assumed to be aliases for the column names.\u001b[39;00m\n\u001b[1;32m   3434\u001b[0m \u001b[38;5;124;03m    index : bool, default True\u001b[39;00m\n\u001b[1;32m   3435\u001b[0m \u001b[38;5;124;03m        Write row names (index).\u001b[39;00m\n\u001b[1;32m   3436\u001b[0m \u001b[38;5;124;03m    na_rep : str, default 'NaN'\u001b[39;00m\n\u001b[1;32m   3437\u001b[0m \u001b[38;5;124;03m        Missing data representation.\u001b[39;00m\n\u001b[1;32m   3438\u001b[0m \u001b[38;5;124;03m    formatters : list of functions or dict of {{str: function}}, optional\u001b[39;00m\n\u001b[1;32m   3439\u001b[0m \u001b[38;5;124;03m        Formatter functions to apply to columns' elements by position or\u001b[39;00m\n\u001b[1;32m   3440\u001b[0m \u001b[38;5;124;03m        name. The result of each function must be a unicode string.\u001b[39;00m\n\u001b[1;32m   3441\u001b[0m \u001b[38;5;124;03m        List must be of length equal to the number of columns.\u001b[39;00m\n\u001b[1;32m   3442\u001b[0m \u001b[38;5;124;03m    float_format : one-parameter function or str, optional, default None\u001b[39;00m\n\u001b[1;32m   3443\u001b[0m \u001b[38;5;124;03m        Formatter for floating point numbers. For example\u001b[39;00m\n\u001b[1;32m   3444\u001b[0m \u001b[38;5;124;03m        ``float_format=\"%.2f\"`` and ``float_format=\"{{:0.2f}}\".format`` will\u001b[39;00m\n\u001b[1;32m   3445\u001b[0m \u001b[38;5;124;03m        both result in 0.1234 being formatted as 0.12.\u001b[39;00m\n\u001b[1;32m   3446\u001b[0m \u001b[38;5;124;03m    sparsify : bool, optional\u001b[39;00m\n\u001b[1;32m   3447\u001b[0m \u001b[38;5;124;03m        Set to False for a DataFrame with a hierarchical index to print\u001b[39;00m\n\u001b[1;32m   3448\u001b[0m \u001b[38;5;124;03m        every multiindex key at each row. By default, the value will be\u001b[39;00m\n\u001b[1;32m   3449\u001b[0m \u001b[38;5;124;03m        read from the config module.\u001b[39;00m\n\u001b[1;32m   3450\u001b[0m \u001b[38;5;124;03m    index_names : bool, default True\u001b[39;00m\n\u001b[1;32m   3451\u001b[0m \u001b[38;5;124;03m        Prints the names of the indexes.\u001b[39;00m\n\u001b[1;32m   3452\u001b[0m \u001b[38;5;124;03m    bold_rows : bool, default False\u001b[39;00m\n\u001b[1;32m   3453\u001b[0m \u001b[38;5;124;03m        Make the row labels bold in the output.\u001b[39;00m\n\u001b[1;32m   3454\u001b[0m \u001b[38;5;124;03m    column_format : str, optional\u001b[39;00m\n\u001b[1;32m   3455\u001b[0m \u001b[38;5;124;03m        The columns format as specified in `LaTeX table format\u001b[39;00m\n\u001b[1;32m   3456\u001b[0m \u001b[38;5;124;03m        <https://en.wikibooks.org/wiki/LaTeX/Tables>`__ e.g. 'rcl' for 3\u001b[39;00m\n\u001b[1;32m   3457\u001b[0m \u001b[38;5;124;03m        columns. By default, 'l' will be used for all columns except\u001b[39;00m\n\u001b[1;32m   3458\u001b[0m \u001b[38;5;124;03m        columns of numbers, which default to 'r'.\u001b[39;00m\n\u001b[1;32m   3459\u001b[0m \u001b[38;5;124;03m    longtable : bool, optional\u001b[39;00m\n\u001b[1;32m   3460\u001b[0m \u001b[38;5;124;03m        Use a longtable environment instead of tabular. Requires\u001b[39;00m\n\u001b[1;32m   3461\u001b[0m \u001b[38;5;124;03m        adding a \\usepackage{{longtable}} to your LaTeX preamble.\u001b[39;00m\n\u001b[1;32m   3462\u001b[0m \u001b[38;5;124;03m        By default, the value will be read from the pandas config\u001b[39;00m\n\u001b[1;32m   3463\u001b[0m \u001b[38;5;124;03m        module, and set to `True` if the option ``styler.latex.environment`` is\u001b[39;00m\n\u001b[1;32m   3464\u001b[0m \u001b[38;5;124;03m        `\"longtable\"`.\u001b[39;00m\n\u001b[1;32m   3465\u001b[0m \n\u001b[1;32m   3466\u001b[0m \u001b[38;5;124;03m        .. versionchanged:: 2.0.0\u001b[39;00m\n\u001b[1;32m   3467\u001b[0m \u001b[38;5;124;03m           The pandas option affecting this argument has changed.\u001b[39;00m\n\u001b[1;32m   3468\u001b[0m \u001b[38;5;124;03m    escape : bool, optional\u001b[39;00m\n\u001b[1;32m   3469\u001b[0m \u001b[38;5;124;03m        By default, the value will be read from the pandas config\u001b[39;00m\n\u001b[1;32m   3470\u001b[0m \u001b[38;5;124;03m        module and set to `True` if the option ``styler.format.escape`` is\u001b[39;00m\n\u001b[1;32m   3471\u001b[0m \u001b[38;5;124;03m        `\"latex\"`. When set to False prevents from escaping latex special\u001b[39;00m\n\u001b[1;32m   3472\u001b[0m \u001b[38;5;124;03m        characters in column names.\u001b[39;00m\n\u001b[1;32m   3473\u001b[0m \n\u001b[1;32m   3474\u001b[0m \u001b[38;5;124;03m        .. versionchanged:: 2.0.0\u001b[39;00m\n\u001b[1;32m   3475\u001b[0m \u001b[38;5;124;03m           The pandas option affecting this argument has changed, as has the\u001b[39;00m\n\u001b[1;32m   3476\u001b[0m \u001b[38;5;124;03m           default value to `False`.\u001b[39;00m\n\u001b[1;32m   3477\u001b[0m \u001b[38;5;124;03m    encoding : str, optional\u001b[39;00m\n\u001b[1;32m   3478\u001b[0m \u001b[38;5;124;03m        A string representing the encoding to use in the output file,\u001b[39;00m\n\u001b[1;32m   3479\u001b[0m \u001b[38;5;124;03m        defaults to 'utf-8'.\u001b[39;00m\n\u001b[1;32m   3480\u001b[0m \u001b[38;5;124;03m    decimal : str, default '.'\u001b[39;00m\n\u001b[1;32m   3481\u001b[0m \u001b[38;5;124;03m        Character recognized as decimal separator, e.g. ',' in Europe.\u001b[39;00m\n\u001b[1;32m   3482\u001b[0m \u001b[38;5;124;03m    multicolumn : bool, default True\u001b[39;00m\n\u001b[1;32m   3483\u001b[0m \u001b[38;5;124;03m        Use \\multicolumn to enhance MultiIndex columns.\u001b[39;00m\n\u001b[1;32m   3484\u001b[0m \u001b[38;5;124;03m        The default will be read from the config module, and is set\u001b[39;00m\n\u001b[1;32m   3485\u001b[0m \u001b[38;5;124;03m        as the option ``styler.sparse.columns``.\u001b[39;00m\n\u001b[1;32m   3486\u001b[0m \n\u001b[1;32m   3487\u001b[0m \u001b[38;5;124;03m        .. versionchanged:: 2.0.0\u001b[39;00m\n\u001b[1;32m   3488\u001b[0m \u001b[38;5;124;03m           The pandas option affecting this argument has changed.\u001b[39;00m\n\u001b[1;32m   3489\u001b[0m \u001b[38;5;124;03m    multicolumn_format : str, default 'r'\u001b[39;00m\n\u001b[1;32m   3490\u001b[0m \u001b[38;5;124;03m        The alignment for multicolumns, similar to `column_format`\u001b[39;00m\n\u001b[1;32m   3491\u001b[0m \u001b[38;5;124;03m        The default will be read from the config module, and is set as the option\u001b[39;00m\n\u001b[1;32m   3492\u001b[0m \u001b[38;5;124;03m        ``styler.latex.multicol_align``.\u001b[39;00m\n\u001b[1;32m   3493\u001b[0m \n\u001b[1;32m   3494\u001b[0m \u001b[38;5;124;03m        .. versionchanged:: 2.0.0\u001b[39;00m\n\u001b[1;32m   3495\u001b[0m \u001b[38;5;124;03m           The pandas option affecting this argument has changed, as has the\u001b[39;00m\n\u001b[1;32m   3496\u001b[0m \u001b[38;5;124;03m           default value to \"r\".\u001b[39;00m\n\u001b[1;32m   3497\u001b[0m \u001b[38;5;124;03m    multirow : bool, default True\u001b[39;00m\n\u001b[1;32m   3498\u001b[0m \u001b[38;5;124;03m        Use \\multirow to enhance MultiIndex rows. Requires adding a\u001b[39;00m\n\u001b[1;32m   3499\u001b[0m \u001b[38;5;124;03m        \\usepackage{{multirow}} to your LaTeX preamble. Will print\u001b[39;00m\n\u001b[1;32m   3500\u001b[0m \u001b[38;5;124;03m        centered labels (instead of top-aligned) across the contained\u001b[39;00m\n\u001b[1;32m   3501\u001b[0m \u001b[38;5;124;03m        rows, separating groups via clines. The default will be read\u001b[39;00m\n\u001b[1;32m   3502\u001b[0m \u001b[38;5;124;03m        from the pandas config module, and is set as the option\u001b[39;00m\n\u001b[1;32m   3503\u001b[0m \u001b[38;5;124;03m        ``styler.sparse.index``.\u001b[39;00m\n\u001b[1;32m   3504\u001b[0m \n\u001b[1;32m   3505\u001b[0m \u001b[38;5;124;03m        .. versionchanged:: 2.0.0\u001b[39;00m\n\u001b[1;32m   3506\u001b[0m \u001b[38;5;124;03m           The pandas option affecting this argument has changed, as has the\u001b[39;00m\n\u001b[1;32m   3507\u001b[0m \u001b[38;5;124;03m           default value to `True`.\u001b[39;00m\n\u001b[1;32m   3508\u001b[0m \u001b[38;5;124;03m    caption : str or tuple, optional\u001b[39;00m\n\u001b[1;32m   3509\u001b[0m \u001b[38;5;124;03m        Tuple (full_caption, short_caption),\u001b[39;00m\n\u001b[1;32m   3510\u001b[0m \u001b[38;5;124;03m        which results in ``\\caption[short_caption]{{full_caption}}``;\u001b[39;00m\n\u001b[1;32m   3511\u001b[0m \u001b[38;5;124;03m        if a single string is passed, no short caption will be set.\u001b[39;00m\n\u001b[1;32m   3512\u001b[0m \u001b[38;5;124;03m    label : str, optional\u001b[39;00m\n\u001b[1;32m   3513\u001b[0m \u001b[38;5;124;03m        The LaTeX label to be placed inside ``\\label{{}}`` in the output.\u001b[39;00m\n\u001b[1;32m   3514\u001b[0m \u001b[38;5;124;03m        This is used with ``\\ref{{}}`` in the main ``.tex`` file.\u001b[39;00m\n\u001b[1;32m   3515\u001b[0m \n\u001b[1;32m   3516\u001b[0m \u001b[38;5;124;03m    position : str, optional\u001b[39;00m\n\u001b[1;32m   3517\u001b[0m \u001b[38;5;124;03m        The LaTeX positional argument for tables, to be placed after\u001b[39;00m\n\u001b[1;32m   3518\u001b[0m \u001b[38;5;124;03m        ``\\begin{{}}`` in the output.\u001b[39;00m\n\u001b[1;32m   3519\u001b[0m \n\u001b[1;32m   3520\u001b[0m \u001b[38;5;124;03m    Returns\u001b[39;00m\n\u001b[1;32m   3521\u001b[0m \u001b[38;5;124;03m    -------\u001b[39;00m\n\u001b[1;32m   3522\u001b[0m \u001b[38;5;124;03m    str or None\u001b[39;00m\n\u001b[1;32m   3523\u001b[0m \u001b[38;5;124;03m        If buf is None, returns the result as a string. Otherwise returns None.\u001b[39;00m\n\u001b[1;32m   3524\u001b[0m \n\u001b[1;32m   3525\u001b[0m \u001b[38;5;124;03m    See Also\u001b[39;00m\n\u001b[1;32m   3526\u001b[0m \u001b[38;5;124;03m    --------\u001b[39;00m\n\u001b[1;32m   3527\u001b[0m \u001b[38;5;124;03m    io.formats.style.Styler.to_latex : Render a DataFrame to LaTeX\u001b[39;00m\n\u001b[1;32m   3528\u001b[0m \u001b[38;5;124;03m        with conditional formatting.\u001b[39;00m\n\u001b[1;32m   3529\u001b[0m \u001b[38;5;124;03m    DataFrame.to_string : Render a DataFrame to a console-friendly\u001b[39;00m\n\u001b[1;32m   3530\u001b[0m \u001b[38;5;124;03m        tabular output.\u001b[39;00m\n\u001b[1;32m   3531\u001b[0m \u001b[38;5;124;03m    DataFrame.to_html : Render a DataFrame as an HTML table.\u001b[39;00m\n\u001b[1;32m   3532\u001b[0m \n\u001b[1;32m   3533\u001b[0m \u001b[38;5;124;03m    Notes\u001b[39;00m\n\u001b[1;32m   3534\u001b[0m \u001b[38;5;124;03m    -----\u001b[39;00m\n\u001b[1;32m   3535\u001b[0m \u001b[38;5;124;03m    As of v2.0.0 this method has changed to use the Styler implementation as\u001b[39;00m\n\u001b[1;32m   3536\u001b[0m \u001b[38;5;124;03m    part of :meth:`.Styler.to_latex` via ``jinja2`` templating. This means\u001b[39;00m\n\u001b[1;32m   3537\u001b[0m \u001b[38;5;124;03m    that ``jinja2`` is a requirement, and needs to be installed, for this method\u001b[39;00m\n\u001b[1;32m   3538\u001b[0m \u001b[38;5;124;03m    to function. It is advised that users switch to using Styler, since that\u001b[39;00m\n\u001b[1;32m   3539\u001b[0m \u001b[38;5;124;03m    implementation is more frequently updated and contains much more\u001b[39;00m\n\u001b[1;32m   3540\u001b[0m \u001b[38;5;124;03m    flexibility with the output.\u001b[39;00m\n\u001b[1;32m   3541\u001b[0m \n\u001b[1;32m   3542\u001b[0m \u001b[38;5;124;03m    Examples\u001b[39;00m\n\u001b[1;32m   3543\u001b[0m \u001b[38;5;124;03m    --------\u001b[39;00m\n\u001b[1;32m   3544\u001b[0m \u001b[38;5;124;03m    Convert a general DataFrame to LaTeX with formatting:\u001b[39;00m\n\u001b[1;32m   3545\u001b[0m \n\u001b[1;32m   3546\u001b[0m \u001b[38;5;124;03m    >>> df = pd.DataFrame(dict(name=['Raphael', 'Donatello'],\u001b[39;00m\n\u001b[1;32m   3547\u001b[0m \u001b[38;5;124;03m    ...                        age=[26, 45],\u001b[39;00m\n\u001b[1;32m   3548\u001b[0m \u001b[38;5;124;03m    ...                        height=[181.23, 177.65]))\u001b[39;00m\n\u001b[1;32m   3549\u001b[0m \u001b[38;5;124;03m    >>> print(df.to_latex(index=False,\u001b[39;00m\n\u001b[1;32m   3550\u001b[0m \u001b[38;5;124;03m    ...                   formatters={\"name\": str.upper},\u001b[39;00m\n\u001b[0;32m-> 3551\u001b[0m \u001b[38;5;124;03m    ...                   float_format=\"{:.1f}\".format,\u001b[39;00m\n\u001b[1;32m   3552\u001b[0m \u001b[38;5;124;03m    ... ))  # doctest: +SKIP\u001b[39;00m\n\u001b[1;32m   3553\u001b[0m \u001b[38;5;124;03m    \\begin{tabular}{lrr}\u001b[39;00m\n\u001b[1;32m   3554\u001b[0m \u001b[38;5;124;03m    \\toprule\u001b[39;00m\n\u001b[1;32m   3555\u001b[0m \u001b[38;5;124;03m    name & age & height \\\\\u001b[39;00m\n\u001b[1;32m   3556\u001b[0m \u001b[38;5;124;03m    \\midrule\u001b[39;00m\n\u001b[1;32m   3557\u001b[0m \u001b[38;5;124;03m    RAPHAEL & 26 & 181.2 \\\\\u001b[39;00m\n\u001b[1;32m   3558\u001b[0m \u001b[38;5;124;03m    DONATELLO & 45 & 177.7 \\\\\u001b[39;00m\n\u001b[1;32m   3559\u001b[0m \u001b[38;5;124;03m    \\bottomrule\u001b[39;00m\n\u001b[1;32m   3560\u001b[0m \u001b[38;5;124;03m    \\end{tabular}\u001b[39;00m\n\u001b[1;32m   3561\u001b[0m \u001b[38;5;124;03m    \"\"\"\u001b[39;00m\n\u001b[1;32m   3562\u001b[0m     \u001b[38;5;66;03m# Get defaults from the pandas config\u001b[39;00m\n\u001b[1;32m   3563\u001b[0m     \u001b[38;5;28;01mif\u001b[39;00m \u001b[38;5;28mself\u001b[39m\u001b[38;5;241m.\u001b[39mndim \u001b[38;5;241m==\u001b[39m \u001b[38;5;241m1\u001b[39m:\n",
      "File \u001b[0;32m~/anaconda3/lib/python3.9/site-packages/pandas/io/formats/format.py:1153\u001b[0m, in \u001b[0;36mto_csv\u001b[0;34m(self, path_or_buf, encoding, sep, columns, index_label, mode, compression, quoting, quotechar, line_terminator, chunksize, date_format, doublequote, escapechar, errors, storage_options)\u001b[0m\n\u001b[1;32m   1144\u001b[0m \u001b[38;5;28;01mif\u001b[39;00m digits \u001b[38;5;129;01mis\u001b[39;00m \u001b[38;5;28;01mNone\u001b[39;00m:\n\u001b[1;32m   1145\u001b[0m     digits \u001b[38;5;241m=\u001b[39m get_option(\u001b[38;5;124m\"\u001b[39m\u001b[38;5;124mdisplay.precision\u001b[39m\u001b[38;5;124m\"\u001b[39m)\n\u001b[1;32m   1147\u001b[0m fmt_obj \u001b[38;5;241m=\u001b[39m fmt_klass(\n\u001b[1;32m   1148\u001b[0m     values,\n\u001b[1;32m   1149\u001b[0m     digits\u001b[38;5;241m=\u001b[39mdigits,\n\u001b[1;32m   1150\u001b[0m     na_rep\u001b[38;5;241m=\u001b[39mna_rep,\n\u001b[1;32m   1151\u001b[0m     float_format\u001b[38;5;241m=\u001b[39mfloat_format,\n\u001b[1;32m   1152\u001b[0m     formatter\u001b[38;5;241m=\u001b[39mformatter,\n\u001b[0;32m-> 1153\u001b[0m     space\u001b[38;5;241m=\u001b[39mspace,\n\u001b[1;32m   1154\u001b[0m     justify\u001b[38;5;241m=\u001b[39mjustify,\n\u001b[1;32m   1155\u001b[0m     decimal\u001b[38;5;241m=\u001b[39mdecimal,\n\u001b[1;32m   1156\u001b[0m     leading_space\u001b[38;5;241m=\u001b[39mleading_space,\n\u001b[1;32m   1157\u001b[0m     quoting\u001b[38;5;241m=\u001b[39mquoting,\n\u001b[1;32m   1158\u001b[0m     fallback_formatter\u001b[38;5;241m=\u001b[39mfallback_formatter,\n\u001b[1;32m   1159\u001b[0m )\n\u001b[1;32m   1161\u001b[0m \u001b[38;5;28;01mreturn\u001b[39;00m fmt_obj\u001b[38;5;241m.\u001b[39mget_result()\n",
      "File \u001b[0;32m~/anaconda3/lib/python3.9/site-packages/pandas/io/formats/csvs.py:24\u001b[0m, in \u001b[0;36m<module>\u001b[0;34m\u001b[0m\n\u001b[1;32m     21\u001b[0m \u001b[38;5;28;01mimport\u001b[39;00m \u001b[38;5;21;01mnumpy\u001b[39;00m \u001b[38;5;28;01mas\u001b[39;00m \u001b[38;5;21;01mnp\u001b[39;00m\n\u001b[1;32m     23\u001b[0m \u001b[38;5;28;01mfrom\u001b[39;00m \u001b[38;5;21;01mpandas\u001b[39;00m\u001b[38;5;21;01m.\u001b[39;00m\u001b[38;5;21;01m_libs\u001b[39;00m \u001b[38;5;28;01mimport\u001b[39;00m writers \u001b[38;5;28;01mas\u001b[39;00m libwriters\n\u001b[0;32m---> 24\u001b[0m \u001b[38;5;28;01mfrom\u001b[39;00m \u001b[38;5;21;01mpandas\u001b[39;00m\u001b[38;5;21;01m.\u001b[39;00m\u001b[38;5;21;01m_typing\u001b[39;00m \u001b[38;5;28;01mimport\u001b[39;00m SequenceNotStr\n\u001b[1;32m     25\u001b[0m \u001b[38;5;28;01mfrom\u001b[39;00m \u001b[38;5;21;01mpandas\u001b[39;00m\u001b[38;5;21;01m.\u001b[39;00m\u001b[38;5;21;01mutil\u001b[39;00m\u001b[38;5;21;01m.\u001b[39;00m\u001b[38;5;21;01m_decorators\u001b[39;00m \u001b[38;5;28;01mimport\u001b[39;00m cache_readonly\n\u001b[1;32m     27\u001b[0m \u001b[38;5;28;01mfrom\u001b[39;00m \u001b[38;5;21;01mpandas\u001b[39;00m\u001b[38;5;21;01m.\u001b[39;00m\u001b[38;5;21;01mcore\u001b[39;00m\u001b[38;5;21;01m.\u001b[39;00m\u001b[38;5;21;01mdtypes\u001b[39;00m\u001b[38;5;21;01m.\u001b[39;00m\u001b[38;5;21;01mgeneric\u001b[39;00m \u001b[38;5;28;01mimport\u001b[39;00m (\n\u001b[1;32m     28\u001b[0m     ABCDatetimeIndex,\n\u001b[1;32m     29\u001b[0m     ABCIndex,\n\u001b[1;32m     30\u001b[0m     ABCMultiIndex,\n\u001b[1;32m     31\u001b[0m     ABCPeriodIndex,\n\u001b[1;32m     32\u001b[0m )\n",
      "\u001b[0;31mImportError\u001b[0m: cannot import name 'SequenceNotStr' from 'pandas._typing' (/home/codespace/anaconda3/lib/python3.9/site-packages/pandas/_typing.py)"
     ]
    }
   ],
   "source": [
    "csv_file = \"yellow_tripdata_2021-01.csv\"\n",
    "data.to_csv(csv_file, index=False)"
   ]
  },
  {
   "cell_type": "code",
   "execution_count": 30,
   "id": "479e3333",
   "metadata": {},
   "outputs": [
    {
     "data": {
      "text/plain": [
       "'1.4.2'"
      ]
     },
     "execution_count": 30,
     "metadata": {},
     "output_type": "execute_result"
    }
   ],
   "source": [
    "pd.__version__"
   ]
  },
  {
   "cell_type": "code",
   "execution_count": null,
   "id": "867a16fb",
   "metadata": {},
   "outputs": [],
   "source": []
  },
  {
   "cell_type": "code",
   "execution_count": null,
   "id": "f7811dd0",
   "metadata": {},
   "outputs": [],
   "source": []
  },
  {
   "cell_type": "code",
   "execution_count": null,
   "id": "788db3e6",
   "metadata": {},
   "outputs": [],
   "source": []
  }
 ],
 "metadata": {
  "kernelspec": {
   "display_name": "Python 3 (ipykernel)",
   "language": "python",
   "name": "python3"
  },
  "language_info": {
   "codemirror_mode": {
    "name": "ipython",
    "version": 3
   },
   "file_extension": ".py",
   "mimetype": "text/x-python",
   "name": "python",
   "nbconvert_exporter": "python",
   "pygments_lexer": "ipython3",
   "version": "3.9.12"
  }
 },
 "nbformat": 4,
 "nbformat_minor": 5
}
